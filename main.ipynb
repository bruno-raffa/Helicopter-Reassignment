{
 "cells": [
  {
   "cell_type": "code",
   "execution_count": 1,
   "metadata": {},
   "outputs": [],
   "source": [
    "# pip install -r requirements.txt"
   ]
  },
  {
   "cell_type": "code",
   "execution_count": 2,
   "metadata": {},
   "outputs": [],
   "source": [
    "import os\n",
    "import pandas as pd\n",
    "import numpy as np\n",
    "from dwave.system import LeapHybridCQMSampler, LeapHybridSampler\n",
    "from dimod import ConstrainedQuadraticModel,  QuadraticModel, quicksum, Integer\n",
    "from dotenv import load_dotenv, find_dotenv\n",
    "import networkx as nx\n",
    "import re\n",
    "import random\n",
    "import matplotlib\n",
    "try:\n",
    "    import matplotlib.pyplot as plt\n",
    "except ImportError:\n",
    "    matplotlib.use(\"agg\")\n",
    "    import matplotlib.pyplot as plt"
   ]
  },
  {
   "cell_type": "code",
   "execution_count": 3,
   "metadata": {},
   "outputs": [],
   "source": [
    "# Load Environmental Variables\n",
    "load_dotenv(find_dotenv())\n",
    "token = os.environ['DWAVE_API_KEY'] "
   ]
  },
  {
   "cell_type": "code",
   "execution_count": 4,
   "metadata": {},
   "outputs": [],
   "source": [
    "# Import the data\n",
    "import csv\n",
    "\n",
    "with open('locations.csv', 'r') as f:\n",
    "    reader = csv.DictReader(f)\n",
    "    locations = {}\n",
    "    for row in reader:\n",
    "        name = row['Location']\n",
    "        x_coord = float(row['X-Coord'])\n",
    "        y_coord = float(row['Y-Coord'])\n",
    "        assigned = int(row['Assigned'])\n",
    "        demand = int(row['Projected Demand'])\n",
    "        locations[name] = {'x_coord': x_coord, 'y_coord': y_coord, 'assigned': assigned, 'demand': demand}\n",
    "\n"
   ]
  },
  {
   "cell_type": "code",
   "execution_count": 5,
   "metadata": {},
   "outputs": [],
   "source": [
    "# Reshape the initial data format in more useful structure\n",
    "def summarize_data(original_dict):\n",
    "    new_dict = {}\n",
    "    for i, location in enumerate(original_dict.values()):\n",
    "        new_dict[i] = (location['x_coord'], location['y_coord'])\n",
    "    demand = {i: location['demand'] for i, location in enumerate(original_dict.values())}\n",
    "    assigned = {i: location['assigned'] for i, location in enumerate(original_dict.values())}\n",
    "    return new_dict, demand, assigned"
   ]
  },
  {
   "cell_type": "code",
   "execution_count": 6,
   "metadata": {},
   "outputs": [],
   "source": [
    "def build_cqm(locations):\n",
    "\n",
    "    # Compute distance matrix using Haversine distance\n",
    "    def haversine(coord1, coord2):\n",
    "        R = 6371  # Earth radius in km\n",
    "        lat1, lon1 = coord1\n",
    "        lat2, lon2 = coord2\n",
    "        dlat = np.deg2rad(lat2 - lat1)\n",
    "        dlon = np.deg2rad(lon2 - lon1)\n",
    "        a = np.sin(dlat / 2) ** 2 + np.cos(np.deg2rad(lat1)) * np.cos(np.deg2rad(lat2)) * np.sin(dlon / 2) ** 2\n",
    "        c = 2 * np.arctan2(np.sqrt(a), np.sqrt(1 - a))\n",
    "        return R * c\n",
    "    \n",
    "    # Provide the cost per km\n",
    "    c = 100\n",
    "\n",
    "    # Define the number of locations \n",
    "    num_locations = len(locations)\n",
    "\n",
    "    dist = {(i, j): haversine(L[i], L[j]) for i in L for j in L}\n",
    "\n",
    "    # Define integer variable for number of helicopters to be moved from location i to j, ∀i∈L, ∀j∈L\n",
    "    z = {\n",
    "    (i, j): Integer('z{}_{}'.format(i, j), lower_bound=0,\n",
    "                    upper_bound=100)\n",
    "    for i in range(num_locations) for j in range(num_locations) if i !=j\n",
    "       }\n",
    "\n",
    "    #Instantiate the Constrained Quadratic Model\n",
    "    cqm = ConstrainedQuadraticModel()\n",
    "    \n",
    "    # Define the objective function\n",
    "    objective = sum(dist[i, j] * c * z[(i,j)] for i in L for j in L if i != j)\n",
    "    cqm.set_objective(objective)\n",
    "\n",
    "\n",
    "    # Define the constraint\n",
    "    for i in L:\n",
    "        demand = di[i] - si[i]\n",
    "        flow_balance = sum(z[(j,i)] for j in L if j != i) - sum(z[(i,j)] for j in L if j != i)\n",
    "        cqm.add_constraint(flow_balance == demand)\n",
    "\n",
    "    return (cqm)"
   ]
  },
  {
   "cell_type": "code",
   "execution_count": 7,
   "metadata": {},
   "outputs": [],
   "source": [
    "def sample (cqm):\n",
    "    \n",
    "    # Solve the problem\n",
    "    sampler = LeapHybridCQMSampler(token=token)\n",
    "    print(\"Submitting CQM to solver {}.\".format(sampler.solver.name))\n",
    "    \n",
    "    # Sample from the model\n",
    "    sampleset = sampler.sample_cqm(cqm, label='Air Ambulance Reassignment Problem')\n",
    "    feasible_sampleset = sampleset.filter(lambda row: row.is_feasible)\n",
    "    if not len(feasible_sampleset):\n",
    "        raise ValueError(\"No feasible solution found\")\n",
    "\n",
    "    # Get the lowest feasible energy solution and store the solution variable\n",
    "    best = feasible_sampleset.first\n",
    "    result = [(key, val) for key, val in best.sample.items() if val==1.0]\n",
    "    return result"
   ]
  },
  {
   "cell_type": "code",
   "execution_count": 8,
   "metadata": {},
   "outputs": [],
   "source": [
    "def parse_data(data):\n",
    "    pattern = r\"(\\d+)\"\n",
    "    new_data = {}\n",
    "    for item in data:\n",
    "        location = re.findall(pattern, item[0])\n",
    "        key_list = list(locations.keys())\n",
    "        key_index1 = int(location[0]) \n",
    "        key_index2 = int(location[1]) \n",
    "        key_name1 = key_list[key_index1]\n",
    "        key_name2 = key_list[key_index2]\n",
    "        name = key_name1 + \"-> \" + key_name2\n",
    "        value = int(item[1])\n",
    "        new_data[name] = value\n",
    "    return new_data\n"
   ]
  },
  {
   "cell_type": "code",
   "execution_count": 9,
   "metadata": {},
   "outputs": [],
   "source": [
    "def restructure_locations_dict(locations_dict):\n",
    "    coords_dict = {}\n",
    "    for city, data in locations_dict.items():\n",
    "        x_coord = int(data['x_coord'])\n",
    "        y_coord = int(data['y_coord'])\n",
    "        coords_dict[city] = (x_coord, y_coord)\n",
    "    return coords_dict\n"
   ]
  },
  {
   "cell_type": "code",
   "execution_count": 10,
   "metadata": {},
   "outputs": [],
   "source": [
    "def draw_graph_with_arrows(coords_dict, routes_data):\n",
    "    \n",
    "    # create graph\n",
    "    G = nx.DiGraph()\n",
    "\n",
    "    # add nodes with coordinates as attributes\n",
    "    for city, coords in coords_dict.items():\n",
    "        G.add_node(city, pos=coords)\n",
    "\n",
    "    # add edges with weights as attributes\n",
    "    for route, weight in routes_data.items():\n",
    "        start, end = route.split('->')\n",
    "        G.add_edge(start.strip(), end.strip(), weight=weight)\n",
    "\n",
    "    # get node positions from node attributes\n",
    "    pos = nx.get_node_attributes(G, 'pos')\n",
    "\n",
    "    # get edge weights from edge attributes\n",
    "    edge_weights = nx.get_edge_attributes(G, 'weight')\n",
    "\n",
    "    # draw graph with arrows and labels\n",
    "    nx.draw_networkx(G, pos, arrows=True, with_labels=True, edge_color='r', width=4)\n",
    "\n",
    "    # draw edge weights\n",
    "    nx.draw_networkx_edge_labels(G, pos, edge_labels=edge_weights)\n",
    "\n",
    "    # Save the graph as a png file\n",
    "    plt.savefig(\"graph.png\", dpi=300, bbox_inches='tight')\n",
    "\n",
    "    # show plot\n",
    "    plt.show()"
   ]
  },
  {
   "cell_type": "code",
   "execution_count": 11,
   "metadata": {},
   "outputs": [],
   "source": [
    "L, di, si = summarize_data(locations)"
   ]
  },
  {
   "cell_type": "code",
   "execution_count": 12,
   "metadata": {},
   "outputs": [
    {
     "name": "stdout",
     "output_type": "stream",
     "text": [
      "Submitting CQM to solver hybrid_constrained_quadratic_model_version1.\n"
     ]
    }
   ],
   "source": [
    "cqm = build_cqm(locations)\n",
    "sample = sample(cqm)"
   ]
  },
  {
   "cell_type": "code",
   "execution_count": 13,
   "metadata": {},
   "outputs": [
    {
     "data": {
      "text/plain": [
       "{'OKA-> Chicago': 1,\n",
       " 'Kansas City-> Indianapolis': 1,\n",
       " 'Kansas City-> Minneapolis': 1}"
      ]
     },
     "execution_count": 13,
     "metadata": {},
     "output_type": "execute_result"
    }
   ],
   "source": [
    "result = parse_data(sample)\n",
    "result"
   ]
  },
  {
   "cell_type": "code",
   "execution_count": 14,
   "metadata": {},
   "outputs": [],
   "source": [
    "coords_dict = restructure_locations_dict(locations)"
   ]
  },
  {
   "cell_type": "code",
   "execution_count": 15,
   "metadata": {},
   "outputs": [
    {
     "data": {
      "image/png": "[encoded data removed]",
      "text/plain": [
       "<Figure size 640x480 with 1 Axes>"
      ]
     },
     "metadata": {},
     "output_type": "display_data"
    }
   ],
   "source": [
    "draw_graph_with_arrows(coords_dict, result)"
   ]
  }
 ],
 "metadata": {
  "kernelspec": {
   "display_name": ".venv",
   "language": "python",
   "name": "python3"
  },
  "language_info": {
   "codemirror_mode": {
    "name": "ipython",
    "version": 3
   },
   "file_extension": ".py",
   "mimetype": "text/x-python",
   "name": "python",
   "nbconvert_exporter": "python",
   "pygments_lexer": "ipython3",
   "version": "3.10.11"
  },
  "orig_nbformat": 4
 },
 "nbformat": 4,
 "nbformat_minor": 2
}
